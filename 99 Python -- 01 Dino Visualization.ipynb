{
  "cells": [
    {
      "metadata": {
        "slideshow": {
          "slide_type": "slide"
        }
      },
      "cell_type": "markdown",
      "source": "# Jupyter Slides Demo"
    },
    {
      "metadata": {
        "trusted": true,
        "slideshow": {
          "slide_type": "slide"
        }
      },
      "cell_type": "code",
      "source": "import numpy as np\nimport pandas as pd\nimport matplotlib.pyplot as plt\nimport seaborn as sns\nplt.style.use('seaborn-white')\n%matplotlib inline",
      "execution_count": 23,
      "outputs": []
    },
    {
      "metadata": {
        "trusted": true,
        "slideshow": {
          "slide_type": "slide"
        }
      },
      "cell_type": "code",
      "source": "# dataset resource : http://blog.revolutionanalytics.com/2017/05/the-datasaurus-dozen.html\n\ndatasauras  = pd.read_csv('DatasaurusDozen.tsv',sep='\\t')",
      "execution_count": 28,
      "outputs": []
    },
    {
      "metadata": {
        "trusted": true,
        "slideshow": {
          "slide_type": "subslide"
        }
      },
      "cell_type": "code",
      "source": "dino = datasauras[datasauras['dataset']=='dino']",
      "execution_count": 29,
      "outputs": []
    },
    {
      "metadata": {
        "trusted": true,
        "slideshow": {
          "slide_type": "fragment"
        }
      },
      "cell_type": "code",
      "source": "datasauras.head()",
      "execution_count": 30,
      "outputs": [
        {
          "output_type": "execute_result",
          "execution_count": 30,
          "data": {
            "text/html": "<div>\n<style scoped>\n    .dataframe tbody tr th:only-of-type {\n        vertical-align: middle;\n    }\n\n    .dataframe tbody tr th {\n        vertical-align: top;\n    }\n\n    .dataframe thead th {\n        text-align: right;\n    }\n</style>\n<table border=\"1\" class=\"dataframe\">\n  <thead>\n    <tr style=\"text-align: right;\">\n      <th></th>\n      <th>dataset</th>\n      <th>x</th>\n      <th>y</th>\n    </tr>\n  </thead>\n  <tbody>\n    <tr>\n      <th>0</th>\n      <td>dino</td>\n      <td>55.3846</td>\n      <td>97.1795</td>\n    </tr>\n    <tr>\n      <th>1</th>\n      <td>dino</td>\n      <td>51.5385</td>\n      <td>96.0256</td>\n    </tr>\n    <tr>\n      <th>2</th>\n      <td>dino</td>\n      <td>46.1538</td>\n      <td>94.4872</td>\n    </tr>\n    <tr>\n      <th>3</th>\n      <td>dino</td>\n      <td>42.8205</td>\n      <td>91.4103</td>\n    </tr>\n    <tr>\n      <th>4</th>\n      <td>dino</td>\n      <td>40.7692</td>\n      <td>88.3333</td>\n    </tr>\n  </tbody>\n</table>\n</div>",
            "text/plain": "  dataset        x        y\n0    dino  55.3846  97.1795\n1    dino  51.5385  96.0256\n2    dino  46.1538  94.4872\n3    dino  42.8205  91.4103\n4    dino  40.7692  88.3333"
          },
          "metadata": {}
        }
      ]
    },
    {
      "metadata": {
        "slideshow": {
          "slide_type": "slide"
        }
      },
      "cell_type": "markdown",
      "source": "# Visualization"
    },
    {
      "metadata": {
        "trusted": true,
        "slideshow": {
          "slide_type": "slide"
        }
      },
      "cell_type": "code",
      "source": "plt.scatter(dino['x'],dino['y'])\nplt.title(\"Dino Plot\",fontsize=18)",
      "execution_count": 31,
      "outputs": [
        {
          "output_type": "execute_result",
          "execution_count": 31,
          "data": {
            "text/plain": "<matplotlib.text.Text at 0x21860d17438>"
          },
          "metadata": {}
        },
        {
          "output_type": "display_data",
          "data": {
            "image/png": "[encoded data removed]",
            "text/plain": "<matplotlib.figure.Figure at 0x21860c9de80>"
          },
          "metadata": {}
        }
      ]
    }
  ],
  "metadata": {
    "language_info": {
      "file_extension": ".py",
      "codemirror_mode": {
        "version": 3,
        "name": "ipython"
      },
      "pygments_lexer": "ipython3",
      "mimetype": "text/x-python",
      "nbconvert_exporter": "python",
      "version": "3.5.4",
      "name": "python"
    },
    "kernelspec": {
      "name": "python3",
      "display_name": "Python 3",
      "language": "python"
    },
    "celltoolbar": "Slideshow",
    "gist": {
      "id": "",
      "data": {
        "description": "Jupyter slides/dinosaur-viz.ipynb",
        "public": true
      }
    }
  },
  "nbformat": 4,
  "nbformat_minor": 2
}